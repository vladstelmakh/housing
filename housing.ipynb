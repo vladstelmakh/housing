{
  "nbformat": 4,
  "nbformat_minor": 0,
  "metadata": {
    "colab": {
      "provenance": []
    },
    "kernelspec": {
      "name": "python3",
      "display_name": "Python 3"
    },
    "language_info": {
      "name": "python"
    }
  },
  "cells": [
    {
      "cell_type": "code",
      "execution_count": null,
      "metadata": {
        "id": "jeqzH-dOzhtL"
      },
      "outputs": [],
      "source": [
        "import pandas as pd\n",
        "import numpy as np\n",
        "from sklearn.model_selection import train_test_split\n",
        "from sklearn.preprocessing import StandardScaler\n",
        "from keras.models import Sequential\n",
        "from keras.layers import Dense\n",
        "from sklearn.metrics import mean_squared_error"
      ]
    },
    {
      "cell_type": "code",
      "source": [
        "# Odczytywanie danych\n",
        "data = pd.read_csv(\"housing.csv\", header=None,delim_whitespace=True)\n",
        "\n",
        "X = data.iloc[:, :-1].values\n",
        "y = data.iloc[:, -1].values"
      ],
      "metadata": {
        "id": "35-GhRX81Cf2"
      },
      "execution_count": null,
      "outputs": []
    },
    {
      "cell_type": "code",
      "source": [
        "# Normalizacja danych\n",
        "scaler = StandardScaler()\n",
        "X = scaler.fit_transform(X)"
      ],
      "metadata": {
        "id": "oZqtZcWd1q8p"
      },
      "execution_count": null,
      "outputs": []
    },
    {
      "cell_type": "code",
      "source": [
        "# Podział danych na zbiory uczące i testowe\n",
        "X_train, X_test, y_train, y_test = train_test_split(X, y, test_size=0.2, random_state=42)\n"
      ],
      "metadata": {
        "id": "bZwziD6C2Xmz"
      },
      "execution_count": null,
      "outputs": []
    },
    {
      "cell_type": "code",
      "source": [
        "# Tworzenie sieci neuronowej\n",
        "from keras.layers import Dropout\n",
        "\n",
        "model = Sequential()\n",
        "model.add(Dense(20, input_dim=13, activation='relu'))\n",
        "model.add(Dropout(0.5))\n",
        "model.add(Dense(10, activation='relu'))\n",
        "model.add(Dropout(0.5))\n",
        "model.add(Dense(1, activation='linear'))"
      ],
      "metadata": {
        "id": "shHBMdHI2Zz2"
      },
      "execution_count": null,
      "outputs": []
    },
    {
      "cell_type": "code",
      "source": [
        "# Kompilacja modeli\n",
        "model.compile(loss='mean_squared_error', optimizer='adam')"
      ],
      "metadata": {
        "id": "9GwwiBhb2dC7"
      },
      "execution_count": null,
      "outputs": []
    },
    {
      "cell_type": "code",
      "source": [
        "# Uczenie modelu\n",
        "model.fit(X_train, y_train, epochs=100, batch_size=10)"
      ],
      "metadata": {
        "colab": {
          "base_uri": "https://localhost:8080/"
        },
        "id": "18k0pcWj2e-I",
        "outputId": "630a31ab-f150-48a3-ebc3-f6e6723dc378"
      },
      "execution_count": null,
      "outputs": [
        {
          "output_type": "stream",
          "name": "stdout",
          "text": [
            "Epoch 1/100\n",
            "41/41 [==============================] - 1s 1ms/step - loss: 611.7020\n",
            "Epoch 2/100\n",
            "41/41 [==============================] - 0s 1ms/step - loss: 592.1569\n",
            "Epoch 3/100\n",
            "41/41 [==============================] - 0s 1ms/step - loss: 561.3683\n",
            "Epoch 4/100\n",
            "41/41 [==============================] - 0s 1ms/step - loss: 529.3273\n",
            "Epoch 5/100\n",
            "41/41 [==============================] - 0s 1ms/step - loss: 473.8378\n",
            "Epoch 6/100\n",
            "41/41 [==============================] - 0s 2ms/step - loss: 421.8942\n",
            "Epoch 7/100\n",
            "41/41 [==============================] - 0s 1ms/step - loss: 340.2924\n",
            "Epoch 8/100\n",
            "41/41 [==============================] - 0s 1ms/step - loss: 278.3846\n",
            "Epoch 9/100\n",
            "41/41 [==============================] - 0s 2ms/step - loss: 224.8855\n",
            "Epoch 10/100\n",
            "41/41 [==============================] - 0s 1ms/step - loss: 250.1922\n",
            "Epoch 11/100\n",
            "41/41 [==============================] - 0s 1ms/step - loss: 207.4011\n",
            "Epoch 12/100\n",
            "41/41 [==============================] - 0s 1ms/step - loss: 183.7260\n",
            "Epoch 13/100\n",
            "41/41 [==============================] - 0s 1ms/step - loss: 213.3478\n",
            "Epoch 14/100\n",
            "41/41 [==============================] - 0s 1ms/step - loss: 179.5837\n",
            "Epoch 15/100\n",
            "41/41 [==============================] - 0s 1ms/step - loss: 179.9708\n",
            "Epoch 16/100\n",
            "41/41 [==============================] - 0s 1ms/step - loss: 187.1228\n",
            "Epoch 17/100\n",
            "41/41 [==============================] - 0s 1ms/step - loss: 181.3123\n",
            "Epoch 18/100\n",
            "41/41 [==============================] - 0s 1ms/step - loss: 157.8197\n",
            "Epoch 19/100\n",
            "41/41 [==============================] - 0s 2ms/step - loss: 153.1494\n",
            "Epoch 20/100\n",
            "41/41 [==============================] - 0s 1ms/step - loss: 160.2243\n",
            "Epoch 21/100\n",
            "41/41 [==============================] - 0s 1ms/step - loss: 167.0305\n",
            "Epoch 22/100\n",
            "41/41 [==============================] - 0s 1ms/step - loss: 149.6771\n",
            "Epoch 23/100\n",
            "41/41 [==============================] - 0s 2ms/step - loss: 162.1789\n",
            "Epoch 24/100\n",
            "41/41 [==============================] - 0s 2ms/step - loss: 160.1715\n",
            "Epoch 25/100\n",
            "41/41 [==============================] - 0s 1ms/step - loss: 166.4056\n",
            "Epoch 26/100\n",
            "41/41 [==============================] - 0s 1ms/step - loss: 148.3340\n",
            "Epoch 27/100\n",
            "41/41 [==============================] - 0s 1ms/step - loss: 160.1576\n",
            "Epoch 28/100\n",
            "41/41 [==============================] - 0s 1ms/step - loss: 162.5355\n",
            "Epoch 29/100\n",
            "41/41 [==============================] - 0s 1ms/step - loss: 152.8999\n",
            "Epoch 30/100\n",
            "41/41 [==============================] - 0s 1ms/step - loss: 145.6652\n",
            "Epoch 31/100\n",
            "41/41 [==============================] - 0s 1ms/step - loss: 164.2834\n",
            "Epoch 32/100\n",
            "41/41 [==============================] - 0s 1ms/step - loss: 147.4054\n",
            "Epoch 33/100\n",
            "41/41 [==============================] - 0s 1ms/step - loss: 144.8000\n",
            "Epoch 34/100\n",
            "41/41 [==============================] - 0s 1ms/step - loss: 151.0627\n",
            "Epoch 35/100\n",
            "41/41 [==============================] - 0s 1ms/step - loss: 144.7437\n",
            "Epoch 36/100\n",
            "41/41 [==============================] - 0s 1ms/step - loss: 133.6765\n",
            "Epoch 37/100\n",
            "41/41 [==============================] - 0s 1ms/step - loss: 152.9476\n",
            "Epoch 38/100\n",
            "41/41 [==============================] - 0s 1ms/step - loss: 161.9794\n",
            "Epoch 39/100\n",
            "41/41 [==============================] - 0s 1ms/step - loss: 121.3547\n",
            "Epoch 40/100\n",
            "41/41 [==============================] - 0s 2ms/step - loss: 129.5038\n",
            "Epoch 41/100\n",
            "41/41 [==============================] - 0s 1ms/step - loss: 129.3025\n",
            "Epoch 42/100\n",
            "41/41 [==============================] - 0s 1ms/step - loss: 161.7712\n",
            "Epoch 43/100\n",
            "41/41 [==============================] - 0s 1ms/step - loss: 136.7934\n",
            "Epoch 44/100\n",
            "41/41 [==============================] - 0s 1ms/step - loss: 142.2840\n",
            "Epoch 45/100\n",
            "41/41 [==============================] - 0s 1ms/step - loss: 138.7650\n",
            "Epoch 46/100\n",
            "41/41 [==============================] - 0s 1ms/step - loss: 124.4664\n",
            "Epoch 47/100\n",
            "41/41 [==============================] - 0s 2ms/step - loss: 142.4301\n",
            "Epoch 48/100\n",
            "41/41 [==============================] - 0s 2ms/step - loss: 139.5147\n",
            "Epoch 49/100\n",
            "41/41 [==============================] - 0s 2ms/step - loss: 145.7789\n",
            "Epoch 50/100\n",
            "41/41 [==============================] - 0s 2ms/step - loss: 132.0778\n",
            "Epoch 51/100\n",
            "41/41 [==============================] - 0s 2ms/step - loss: 129.3814\n",
            "Epoch 52/100\n",
            "41/41 [==============================] - 0s 2ms/step - loss: 131.4642\n",
            "Epoch 53/100\n",
            "41/41 [==============================] - 0s 2ms/step - loss: 142.1742\n",
            "Epoch 54/100\n",
            "41/41 [==============================] - 0s 2ms/step - loss: 130.0745\n",
            "Epoch 55/100\n",
            "41/41 [==============================] - 0s 2ms/step - loss: 139.1444\n",
            "Epoch 56/100\n",
            "41/41 [==============================] - 0s 1ms/step - loss: 142.0394\n",
            "Epoch 57/100\n",
            "41/41 [==============================] - 0s 2ms/step - loss: 125.5183\n",
            "Epoch 58/100\n",
            "41/41 [==============================] - 0s 2ms/step - loss: 134.7515\n",
            "Epoch 59/100\n",
            "41/41 [==============================] - 0s 2ms/step - loss: 127.2941\n",
            "Epoch 60/100\n",
            "41/41 [==============================] - 0s 2ms/step - loss: 138.0024\n",
            "Epoch 61/100\n",
            "41/41 [==============================] - 0s 2ms/step - loss: 142.6563\n",
            "Epoch 62/100\n",
            "41/41 [==============================] - 0s 2ms/step - loss: 142.2306\n",
            "Epoch 63/100\n",
            "41/41 [==============================] - 0s 1ms/step - loss: 132.0491\n",
            "Epoch 64/100\n",
            "41/41 [==============================] - 0s 1ms/step - loss: 105.7638\n",
            "Epoch 65/100\n",
            "41/41 [==============================] - 0s 1ms/step - loss: 130.7336\n",
            "Epoch 66/100\n",
            "41/41 [==============================] - 0s 1ms/step - loss: 132.9888\n",
            "Epoch 67/100\n",
            "41/41 [==============================] - 0s 1ms/step - loss: 127.2890\n",
            "Epoch 68/100\n",
            "41/41 [==============================] - 0s 2ms/step - loss: 132.7105\n",
            "Epoch 69/100\n",
            "41/41 [==============================] - 0s 2ms/step - loss: 126.3200\n",
            "Epoch 70/100\n",
            "41/41 [==============================] - 0s 2ms/step - loss: 113.4335\n",
            "Epoch 71/100\n",
            "41/41 [==============================] - 0s 2ms/step - loss: 118.6799\n",
            "Epoch 72/100\n",
            "41/41 [==============================] - 0s 2ms/step - loss: 119.0243\n",
            "Epoch 73/100\n",
            "41/41 [==============================] - 0s 2ms/step - loss: 126.4451\n",
            "Epoch 74/100\n",
            "41/41 [==============================] - 0s 2ms/step - loss: 146.9313\n",
            "Epoch 75/100\n",
            "41/41 [==============================] - 0s 2ms/step - loss: 125.9980\n",
            "Epoch 76/100\n",
            "41/41 [==============================] - 0s 2ms/step - loss: 125.3693\n",
            "Epoch 77/100\n",
            "41/41 [==============================] - 0s 2ms/step - loss: 123.0527\n",
            "Epoch 78/100\n",
            "41/41 [==============================] - 0s 1ms/step - loss: 105.2875\n",
            "Epoch 79/100\n",
            "41/41 [==============================] - 0s 2ms/step - loss: 116.0684\n",
            "Epoch 80/100\n",
            "41/41 [==============================] - 0s 2ms/step - loss: 132.5973\n",
            "Epoch 81/100\n",
            "41/41 [==============================] - 0s 2ms/step - loss: 116.3058\n",
            "Epoch 82/100\n",
            "41/41 [==============================] - 0s 1ms/step - loss: 112.6225\n",
            "Epoch 83/100\n",
            "41/41 [==============================] - 0s 1ms/step - loss: 112.8446\n",
            "Epoch 84/100\n",
            "41/41 [==============================] - 0s 1ms/step - loss: 114.1639\n",
            "Epoch 85/100\n",
            "41/41 [==============================] - 0s 1ms/step - loss: 117.2650\n",
            "Epoch 86/100\n",
            "41/41 [==============================] - 0s 2ms/step - loss: 140.0395\n",
            "Epoch 87/100\n",
            "41/41 [==============================] - 0s 1ms/step - loss: 103.0159\n",
            "Epoch 88/100\n",
            "41/41 [==============================] - 0s 1ms/step - loss: 130.5962\n",
            "Epoch 89/100\n",
            "41/41 [==============================] - 0s 1ms/step - loss: 104.6286\n",
            "Epoch 90/100\n",
            "41/41 [==============================] - 0s 1ms/step - loss: 121.1760\n",
            "Epoch 91/100\n",
            "41/41 [==============================] - 0s 1ms/step - loss: 95.4499\n",
            "Epoch 92/100\n",
            "41/41 [==============================] - 0s 1ms/step - loss: 125.0104\n",
            "Epoch 93/100\n",
            "41/41 [==============================] - 0s 1ms/step - loss: 118.9242\n",
            "Epoch 94/100\n",
            "41/41 [==============================] - 0s 2ms/step - loss: 117.0295\n",
            "Epoch 95/100\n",
            "41/41 [==============================] - 0s 1ms/step - loss: 108.1543\n",
            "Epoch 96/100\n",
            "41/41 [==============================] - 0s 1ms/step - loss: 127.5763\n",
            "Epoch 97/100\n",
            "41/41 [==============================] - 0s 1ms/step - loss: 108.9300\n",
            "Epoch 98/100\n",
            "41/41 [==============================] - 0s 1ms/step - loss: 123.3495\n",
            "Epoch 99/100\n",
            "41/41 [==============================] - 0s 1ms/step - loss: 124.3159\n",
            "Epoch 100/100\n",
            "41/41 [==============================] - 0s 1ms/step - loss: 106.1288\n"
          ]
        },
        {
          "output_type": "execute_result",
          "data": {
            "text/plain": [
              "<keras.callbacks.History at 0x7f014c07a680>"
            ]
          },
          "metadata": {},
          "execution_count": 9
        }
      ]
    },
    {
      "cell_type": "code",
      "source": [
        "# Przewidywanie na danych testowych\n",
        "y_pred = model.predict(X_test)"
      ],
      "metadata": {
        "colab": {
          "base_uri": "https://localhost:8080/"
        },
        "id": "cttvyOA82jrm",
        "outputId": "b21ce56d-67f3-4ab1-c898-57ed1b946059"
      },
      "execution_count": null,
      "outputs": [
        {
          "output_type": "stream",
          "name": "stdout",
          "text": [
            "4/4 [==============================] - 0s 2ms/step\n"
          ]
        }
      ]
    },
    {
      "cell_type": "code",
      "source": [
        "# Ocena modelu\n",
        "mse = mean_squared_error(y_test, y_pred)\n",
        "print(f\"Mean Squared Error: {mse}\")"
      ],
      "metadata": {
        "colab": {
          "base_uri": "https://localhost:8080/"
        },
        "id": "Eu61yoGK2mz2",
        "outputId": "fc27ae94-5a90-4f3c-cb3a-92fe09612d0e"
      },
      "execution_count": null,
      "outputs": [
        {
          "output_type": "stream",
          "name": "stdout",
          "text": [
            "Mean Squared Error: 31.79246265804516\n"
          ]
        }
      ]
    },
    {
      "cell_type": "markdown",
      "source": [
        "Jeśli ceny nieruchomości różnią się znacznie (na przykład od 100 do 1000), akceptowalnym błędem może być MSE 31,79.\n",
        "\n",
        "Jeśli realne wartości cen nieruchomości wahają się w wąskim przedziale (na przykład od 10 do 50), to MSE 31,79 będzie bardzo dużym błędem.\n"
      ],
      "metadata": {
        "id": "V7BHO_X03MVc"
      }
    },
    {
      "cell_type": "code",
      "source": [
        "import matplotlib.pyplot as plt\n",
        "\n",
        " # Wizualizacja rzeczywistych i przewidywanych wartości\n",
        "\n",
        "plt.figure(figsize=(10, 6))\n",
        "plt.scatter(y_test, y_pred, color='blue')\n",
        "plt.plot([y_test.min(), y_test.max()], [y_test.min(), y_test.max()], 'k--', lw=4, color='red')\n",
        "plt.title('Real vs Predicted Values')\n",
        "plt.xlabel('Real Values')\n",
        "plt.ylabel('Predicted Values')\n",
        "plt.show()"
      ],
      "metadata": {
        "colab": {
          "base_uri": "https://localhost:8080/",
          "height": 620
        },
        "id": "BFhW2Deh4Coc",
        "outputId": "49fd9282-253c-427e-f821-33a3230b9936"
      },
      "execution_count": null,
      "outputs": [
        {
          "output_type": "stream",
          "name": "stderr",
          "text": [
            "<ipython-input-12-b74ad013340c>:6: UserWarning: color is redundantly defined by the 'color' keyword argument and the fmt string \"k--\" (-> color='k'). The keyword argument will take precedence.\n",
            "  plt.plot([y_test.min(), y_test.max()], [y_test.min(), y_test.max()], 'k--', lw=4, color='red')\n"
          ]
        },
        {
          "output_type": "display_data",
          "data": {
            "text/plain": [
              "<Figure size 1000x600 with 1 Axes>"
            ],
            "image/png": "[encoded data removed]"
          },
          "metadata": {}
        }
      ]
    }
  ]
}